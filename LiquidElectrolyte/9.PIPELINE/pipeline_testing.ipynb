{
 "cells": [
  {
   "cell_type": "markdown",
   "id": "cc0c0384-5f9e-4f34-9d68-3d3329487f37",
   "metadata": {},
   "source": [
    "# Pipeline testing"
   ]
  },
  {
   "cell_type": "markdown",
   "id": "d813f7ee-251d-438f-87d0-66d62272b47d",
   "metadata": {},
   "source": [
    "Pipeline workflow to predict and analyse the trajectories\n",
    "<!-- 1.  Small trajectory fraction analysis\n",
    "    - Read the traj and transform the identities of atoms to differenciate EC/EMC\n",
    "    - Build of the train set by `frame_by_frame` SOAP/TurboSOAP computation\n",
    "    - Embed in a lower dimensional space the SOAP data $\\rightarrow$ *embeding_model*\n",
    "    - Cluster/Classification to get the labels $\\rightarrow$ *clustering_model* (**this can also be done at the end**)\n",
    "    \n",
    "2. Big chunk of the trajectory analysis\n",
    "    - Divide the Big chunck in subset to ease the analysis\n",
    "    - Read the traj subsets and transform the identities of atoms to differenciate EC/EMC\n",
    "    - Application of `frame_by_frame` SOAP computation $\\rightarrow$ *temporary data*\n",
    "    - Transformation in the desired low dim embedding\n",
    "    - Clustering to get the relevant states\n",
    "    \n",
    "3. Dynamics and Kinetics quantities -->"
   ]
  },
  {
   "cell_type": "code",
   "execution_count": 1,
   "id": "71d66124-652e-4264-bbec-7cb82a4ad7a0",
   "metadata": {},
   "outputs": [],
   "source": [
    "import numpy as np\n",
    "\n",
    "# plot tools\n",
    "import matplotlib.pyplot as plt\n",
    "import plotTools as ploT"
   ]
  },
  {
   "cell_type": "markdown",
   "id": "0abed3e7-088d-4ff8-b2bf-1a3d5ecba6f3",
   "metadata": {},
   "source": [
    "## Pipeline Trajectory"
   ]
  },
  {
   "cell_type": "markdown",
   "id": "e87a133c-b365-44bf-b088-27912a4301ba",
   "metadata": {},
   "source": [
    "Descrizione"
   ]
  },
  {
   "cell_type": "code",
   "execution_count": 2,
   "id": "4d67ff59-e0b0-47de-9012-7683936d3478",
   "metadata": {},
   "outputs": [],
   "source": [
    "import pipeTrajectory as pT"
   ]
  },
  {
   "cell_type": "code",
   "execution_count": 3,
   "id": "650b802b-06ef-4672-bf94-dd0809da78b6",
   "metadata": {},
   "outputs": [],
   "source": [
    "traj_dict = dict(\n",
    "    # - traj location\n",
    "    dirname='../0.data/traj/',\n",
    "    sysname='traj_2.1_0-1000.xyz',\n",
    "    # - read info\n",
    "    read_frame_tuple = (0,100,1),\n",
    "    # - species info\n",
    "    traj_species_dict = dict(\n",
    "        rcut_correction = {'H':1,'C':1,'O':1,'Li':0.1,'P':1,'F':1},\n",
    "        molecular_species = ['EC', 'EMC', 'Li', 'PF6']),\n",
    "    # - species differentiation\n",
    "    zshift_tuple = ('EC', [6, 8]),\n",
    "    # - uwrapping of the read traj\n",
    "    unwrap_dict = dict(\n",
    "        species = ['Li','PF6'],\n",
    "        method = 'hybrid'),\n",
    ")"
   ]
  },
  {
   "cell_type": "markdown",
   "id": "beff7db2-f094-46e7-b6d8-49cfb799896b",
   "metadata": {},
   "source": [
    "Initialise the *Trajectory Object*: it will read the first frame and apply the species shift (if included, to shut it off just set `zshift_tuple=None`)"
   ]
  },
  {
   "cell_type": "code",
   "execution_count": 4,
   "id": "07a0f02c-ad89-4b2a-81ac-f87578a05eac",
   "metadata": {},
   "outputs": [
    {
     "name": "stdout",
     "output_type": "stream",
     "text": [
      "\n",
      "# --- Init the trajectory\n",
      "\n",
      "# --- Extracting molecular information\n",
      "CPU times: user 2.2 s, sys: 9.21 ms, total: 2.2 s\n",
      "Wall time: 1.16 s\n"
     ]
    }
   ],
   "source": [
    "%time trajObj = pT.TrajLoader(**traj_dict)"
   ]
  },
  {
   "cell_type": "markdown",
   "id": "8d49dd51-c445-44bb-a696-3817afdc5252",
   "metadata": {},
   "source": [
    "### Reading"
   ]
  },
  {
   "cell_type": "markdown",
   "id": "8896a30b-b0aa-41ec-86cc-976dcece8146",
   "metadata": {},
   "source": [
    "`read_frame_tuple` provides the code the ranges for which to read the frames"
   ]
  },
  {
   "cell_type": "code",
   "execution_count": 5,
   "id": "24a3ec50-f863-44f2-acaf-68d4ec0bb47d",
   "metadata": {},
   "outputs": [
    {
     "data": {
      "text/plain": [
       "(0, 100, 1)"
      ]
     },
     "execution_count": 5,
     "metadata": {},
     "output_type": "execute_result"
    }
   ],
   "source": [
    "trajObj.readFrames"
   ]
  },
  {
   "cell_type": "markdown",
   "id": "7e259587-012b-4224-abe6-5a5be018d3a7",
   "metadata": {},
   "source": [
    "Reading options:"
   ]
  },
  {
   "cell_type": "code",
   "execution_count": 6,
   "id": "be88e159-32a3-4d11-bd37-28225833b634",
   "metadata": {},
   "outputs": [
    {
     "name": "stdout",
     "output_type": "stream",
     "text": [
      "CPU times: user 23.3 ms, sys: 76 µs, total: 23.4 ms\n",
      "Wall time: 19.2 ms\n",
      "Atoms(symbols='C1600H3796F684Li114O1200P114Sc447V447', pbc=True, cell=[46.21103788889213, 46.21103788889213, 46.21103788889213])\n"
     ]
    }
   ],
   "source": [
    "# single frame - with applied shift\n",
    "%time frame = trajObj.readFrame(n_frame=0,Zdiff=True)\n",
    "print(frame)"
   ]
  },
  {
   "cell_type": "code",
   "execution_count": 7,
   "id": "5c092afa-7326-483f-a3e9-3025fa6dcfd2",
   "metadata": {},
   "outputs": [
    {
     "name": "stdout",
     "output_type": "stream",
     "text": [
      "CPU times: user 25.9 ms, sys: 106 µs, total: 26.1 ms\n",
      "Wall time: 20.2 ms\n",
      "Atoms(symbols='C2047H3796F684Li114O1647P114', pbc=True, cell=[46.21103788889213, 46.21103788889213, 46.21103788889213])\n"
     ]
    }
   ],
   "source": [
    "# single frame - with applied shift\n",
    "%time frame = trajObj.readFrame(n_frame=0,Zdiff=False)\n",
    "print(frame)"
   ]
  },
  {
   "cell_type": "code",
   "execution_count": 8,
   "id": "2166655a-4e9d-47ff-b057-3abf30822c71",
   "metadata": {},
   "outputs": [
    {
     "name": "stdout",
     "output_type": "stream",
     "text": [
      "\n",
      "--- Loading traj (0, 100, 1) ---\n",
      "\n",
      "\n",
      "--- Unwrapping the trajs ['Li', 'PF6'] (COM) ---\n",
      "\n"
     ]
    },
    {
     "name": "stderr",
     "output_type": "stream",
     "text": [
      "Computing Mol COM: 100%|██████████████████████████████████████████| 100/100 [00:05<00:00, 19.16it/s]\n",
      "Unwrapping: Li: 100%|████████████████████████████████████████████| 114/114 [00:00<00:00, 980.50it/s]\n",
      "Unwrapping: PF6: 100%|███████████████████████████████████████████| 114/114 [00:00<00:00, 958.33it/s]"
     ]
    },
    {
     "name": "stdout",
     "output_type": "stream",
     "text": [
      "CPU times: user 6.84 s, sys: 40.7 ms, total: 6.88 s\n",
      "Wall time: 6.83 s\n"
     ]
    },
    {
     "name": "stderr",
     "output_type": "stream",
     "text": [
      "\n"
     ]
    }
   ],
   "source": [
    "# traj chunk - shift can be switched on and off as well\n",
    "%time test_read = trajObj.readTraj()"
   ]
  },
  {
   "cell_type": "code",
   "execution_count": 9,
   "id": "8eff2def-7b21-44eb-8878-a2b37d437c88",
   "metadata": {},
   "outputs": [
    {
     "name": "stdout",
     "output_type": "stream",
     "text": [
      "\n",
      "--- Loading traj (0, 100, 1) ---\n",
      "\n",
      "CPU times: user 1.32 s, sys: 40.2 ms, total: 1.36 s\n",
      "Wall time: 1.35 s\n"
     ]
    }
   ],
   "source": [
    "# traj chunk - with no automatic unwrapping\n",
    "trajObj.UnwrapDict = None\n",
    "%time test_read_noshift = trajObj.readTraj(Zdiff=False)"
   ]
  },
  {
   "cell_type": "code",
   "execution_count": 10,
   "id": "c0d1cc45-d3cd-465b-a34a-109a92bf3d9e",
   "metadata": {},
   "outputs": [
    {
     "name": "stdout",
     "output_type": "stream",
     "text": [
      "\n",
      "--- Unwrapping the trajs ['PF6'] (COM) ---\n",
      "\n"
     ]
    },
    {
     "name": "stderr",
     "output_type": "stream",
     "text": [
      "Computing Mol COM: 100%|██████████████████████████████████████████| 100/100 [00:05<00:00, 19.04it/s]\n",
      "Unwrapping: PF6: 100%|██████████████████████████████████████████| 114/114 [00:00<00:00, 1802.65it/s]\n"
     ]
    }
   ],
   "source": [
    "# unwrap with custom parameters after the traj is read\n",
    "unwrapped_traj = trajObj.trajUnwrapper(frame_tuple=(0,10,1), \n",
    "                                       species=['PF6'], method='heuristic', \n",
    "                                       traj=test_read_noshift)"
   ]
  },
  {
   "cell_type": "code",
   "execution_count": 11,
   "id": "3e9adc52-acaa-4b98-85ef-bbbaa32b61e4",
   "metadata": {},
   "outputs": [
    {
     "data": {
      "text/plain": [
       "dict_keys(['PF6'])"
      ]
     },
     "execution_count": 11,
     "metadata": {},
     "output_type": "execute_result"
    }
   ],
   "source": [
    "unwrapped_traj.keys()"
   ]
  },
  {
   "cell_type": "code",
   "execution_count": 12,
   "id": "9e91bc45-f68f-495b-abb9-5b4655ae2285",
   "metadata": {},
   "outputs": [
    {
     "name": "stdout",
     "output_type": "stream",
     "text": [
      "SCRIPT.py    heuristic_unwrap_traj_PF6_0-10-1.npy  pipeEmbedding.py\t   src\n",
      "__pycache__  hybrid_unwrap_traj_Li_0-100-1.npy\t   pipeTrajectory.py\n",
      "anaAtoms.py  hybrid_unwrap_traj_PF6_0-100-1.npy    pipeline_testing.ipynb\n",
      "extAtoms.py  pipeDescriptor.py\t\t\t   plotTools.py\n"
     ]
    }
   ],
   "source": [
    "!ls"
   ]
  },
  {
   "cell_type": "markdown",
   "id": "9e2df824-6425-4958-b734-f4f84bf3deb9",
   "metadata": {
    "tags": []
   },
   "source": [
    "## Pipeline descriptors"
   ]
  },
  {
   "cell_type": "code",
   "execution_count": 13,
   "id": "45da1943-ae8c-4364-af16-10e4b64c4e86",
   "metadata": {},
   "outputs": [],
   "source": [
    "import pipeDescriptor as pD"
   ]
  },
  {
   "cell_type": "code",
   "execution_count": null,
   "id": "e513271a-a88f-49aa-97d0-2070e378489d",
   "metadata": {},
   "outputs": [],
   "source": []
  }
 ],
 "metadata": {
  "kernelspec": {
   "display_name": "CambPy39",
   "language": "python",
   "name": "cambpy39"
  },
  "language_info": {
   "codemirror_mode": {
    "name": "ipython",
    "version": 3
   },
   "file_extension": ".py",
   "mimetype": "text/x-python",
   "name": "python",
   "nbconvert_exporter": "python",
   "pygments_lexer": "ipython3",
   "version": "3.9.7"
  }
 },
 "nbformat": 4,
 "nbformat_minor": 5
}
