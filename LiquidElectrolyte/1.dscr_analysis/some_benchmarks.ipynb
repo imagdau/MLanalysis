{
 "cells": [
  {
   "cell_type": "markdown",
   "id": "cb33fd1a-0449-4a2b-a8f3-1e4549b5f650",
   "metadata": {},
   "source": [
    "# Benchmarks notebook"
   ]
  },
  {
   "cell_type": "markdown",
   "id": "4cd0a95d-f7da-4965-a1d2-4e98cd0a1849",
   "metadata": {},
   "source": [
    "## Liquid Electrolyte \n",
    "\n",
    "BigMap collabolarion\n",
    "\n",
    "Test trajectory `traj_2.1.xyz` with a total of `68001` frames and `8402` atoms."
   ]
  },
  {
   "cell_type": "markdown",
   "id": "a2ed108b-9655-45e8-8574-7bf7208cbdf7",
   "metadata": {},
   "source": [
    "# QUIPPY - ASE"
   ]
  },
  {
   "cell_type": "code",
   "execution_count": 1,
   "id": "3f699a16-37a7-4e06-9236-d27bdf9d8230",
   "metadata": {},
   "outputs": [],
   "source": [
    "import numpy as np\n",
    "import time\n",
    "import sys\n",
    "from tqdm import tqdm\n",
    "from ase.io import read, write\n",
    "from quippy import descriptors\n",
    "import matplotlib.pyplot as plt"
   ]
  },
  {
   "cell_type": "code",
   "execution_count": 2,
   "id": "4d291886-f501-4fa6-8d75-39b3c1d69a61",
   "metadata": {},
   "outputs": [],
   "source": [
    "sys.path.append('../../')"
   ]
  },
  {
   "cell_type": "code",
   "execution_count": 3,
   "id": "d4d17172-5b2c-41f2-add7-de6601449e61",
   "metadata": {},
   "outputs": [],
   "source": [
    "from src import myTools, plotTools"
   ]
  },
  {
   "cell_type": "markdown",
   "id": "5d6cd656-2561-4b05-9e83-8cefd6e2b099",
   "metadata": {},
   "source": [
    "## ASE - traj reader"
   ]
  },
  {
   "cell_type": "code",
   "execution_count": 4,
   "id": "b0528795-6dd5-4951-bf75-bb02f3d83640",
   "metadata": {},
   "outputs": [],
   "source": [
    "def timed_traj_reader(sys_traj, chunk, single_frame=False, verbose=True):\n",
    "    t0 = time.time()\n",
    "    if single_frame:\n",
    "        traj_ = read(sys_traj, index=str(chunk-1)+':'+str(chunk))\n",
    "    else:\n",
    "        traj_ = read(sys_traj, index='0:'+str(chunk))\n",
    "    t1 = time.time()\n",
    "    T = np.around((t1-t0),2)\n",
    "    if verbose:\n",
    "        print(f'time={T}s')\n",
    "    return traj_ , T"
   ]
  },
  {
   "cell_type": "code",
   "execution_count": 5,
   "id": "99364c5c-9092-4021-8ca7-9b71fd588297",
   "metadata": {},
   "outputs": [],
   "source": [
    "traj_chunk = [1,2,5,10,20,100,500,1000]\n",
    "Ntot_frames = 68001"
   ]
  },
  {
   "cell_type": "code",
   "execution_count": 6,
   "id": "f2f36209-1c26-4494-a5f7-6744ae9f9634",
   "metadata": {},
   "outputs": [],
   "source": [
    "sysdir_path = '/mnt/c/Users/andre/Documenti/Work/1.Cambridge/0.systems/1.ioanSystems/data/LiquidElectrolyte/'\n",
    "sysname = 'traj_2.1.xyz'"
   ]
  },
  {
   "cell_type": "markdown",
   "id": "e7931b0b-3185-4cb7-adb7-deea1c210f28",
   "metadata": {},
   "source": [
    "### Reading a single frame"
   ]
  },
  {
   "cell_type": "code",
   "execution_count": 7,
   "id": "f4a231a9-c686-4eb4-a3a0-090fad36fb09",
   "metadata": {},
   "outputs": [
    {
     "name": "stdout",
     "output_type": "stream",
     "text": [
      "time=0.08s\n"
     ]
    }
   ],
   "source": [
    "frame1, _ = timed_traj_reader(sys_traj=sysdir_path+sysname, \n",
    "                              chunk=1, single_frame=True)"
   ]
  },
  {
   "cell_type": "code",
   "execution_count": 8,
   "id": "8c18e9b1-5873-4aa1-907d-c28bea6390ca",
   "metadata": {},
   "outputs": [
    {
     "data": {
      "text/plain": [
       "{'Time': 0.0}"
      ]
     },
     "execution_count": 8,
     "metadata": {},
     "output_type": "execute_result"
    }
   ],
   "source": [
    "read(sysdir_path+sysname,index=':1')[0].info"
   ]
  },
  {
   "cell_type": "code",
   "execution_count": 9,
   "id": "f3289e81-160b-4f03-9ab2-b14aa25fe0df",
   "metadata": {},
   "outputs": [
    {
     "name": "stdout",
     "output_type": "stream",
     "text": [
      "time=0.03s\n",
      "time=0.04s\n",
      "time=0.05s\n",
      "time=0.07s\n",
      "time=0.1s\n",
      "time=0.41s\n",
      "time=1.78s\n",
      "time=3.43s\n"
     ]
    }
   ],
   "source": [
    "comp_time_sfr = list()\n",
    "frame_list = list()\n",
    "for frames in traj_chunk:\n",
    "    f, t = timed_traj_reader(sys_traj=sysdir_path+sysname,\n",
    "                             chunk=frames, single_frame=True)\n",
    "    comp_time_sfr.append(t)\n",
    "    frame_list.append(f[0])"
   ]
  },
  {
   "cell_type": "code",
   "execution_count": 10,
   "id": "7cf95348-cf38-4825-82ac-831e6c335e60",
   "metadata": {},
   "outputs": [
    {
     "data": {
      "text/plain": [
       "[{'Time': 0.0},\n",
       " {'Time': 1.5},\n",
       " {'Time': 6.0},\n",
       " {'Time': 13.5},\n",
       " {'Time': 28.5},\n",
       " {'Time': 148.5},\n",
       " {'Time': 748.5},\n",
       " {'Time': 1498.5}]"
      ]
     },
     "execution_count": 10,
     "metadata": {},
     "output_type": "execute_result"
    }
   ],
   "source": [
    "[f.info for f in frame_list]"
   ]
  },
  {
   "cell_type": "markdown",
   "id": "58c4dfac-5b14-43fe-9ce2-880dd8ff57d7",
   "metadata": {},
   "source": [
    "### Reading chuncks of frames"
   ]
  },
  {
   "cell_type": "code",
   "execution_count": 14,
   "id": "3c92974d-79c8-45ab-a377-a55f3f612f9a",
   "metadata": {},
   "outputs": [
    {
     "name": "stdout",
     "output_type": "stream",
     "text": [
      "time=0.03s\n",
      "1 1\n",
      "time=0.05s\n",
      "2 2\n",
      "time=0.12s\n",
      "5 5\n",
      "time=0.22s\n",
      "10 10\n",
      "time=0.43s\n",
      "20 20\n",
      "time=2.17s\n",
      "100 100\n",
      "time=10.1s\n",
      "500 500\n",
      "time=19.87s\n",
      "1000 1000\n"
     ]
    }
   ],
   "source": [
    "comp_time_chunk = list()\n",
    "bundle_list = list()\n",
    "for frames in traj_chunk:\n",
    "    f, t = timed_traj_reader(sys_traj=sysdir_path+sysname,\n",
    "                             chunk=frames, single_frame=False)\n",
    "    print(frames, len(f))\n",
    "    comp_time_chunk.append(t)\n",
    "    bundle_list.append(f[0])"
   ]
  },
  {
   "cell_type": "code",
   "execution_count": 79,
   "id": "9948048e-6dcf-4c48-8e9c-b215f21ee32c",
   "metadata": {},
   "outputs": [
    {
     "data": {
      "text/plain": [
       "<matplotlib.legend.Legend at 0x7f46d8e1bdc0>"
      ]
     },
     "execution_count": 12,
     "metadata": {},
     "output_type": "execute_result"
    },
    {
     "data": {
      "image/png": "[encoded data removed]",
      "text/plain": [
       "<Figure size 1000x800 with 1 Axes>"
      ]
     },
     "metadata": {
      "needs_background": "light"
     },
     "output_type": "display_data"
    }
   ],
   "source": [
    "fig, ax = plotTools.get_axes(1)\n",
    "ax.plot(traj_chunk,comp_time_sfr)\n",
    "ax.scatter(traj_chunk,comp_time_sfr, label='single value', zorder=3)\n",
    "ax.plot(traj_chunk,comp_time_chunk)\n",
    "ax.scatter(traj_chunk,comp_time_chunk, label='bundle', zorder=3)\n",
    "ax.set_xlabel('frame')\n",
    "ax.set_ylabel('time [s]')\n",
    "ax.legend()"
   ]
  },
  {
   "cell_type": "code",
   "execution_count": 15,
   "id": "b63ba883-c317-4426-a79d-e4707af5eb18",
   "metadata": {},
   "outputs": [
    {
     "data": {
      "text/plain": [
       "{'Time': 0.0}"
      ]
     },
     "execution_count": 15,
     "metadata": {},
     "output_type": "execute_result"
    }
   ],
   "source": [
    "bundle_list[0].info"
   ]
  },
  {
   "cell_type": "code",
   "execution_count": null,
   "id": "a4a9ecb2-4d2f-4477-a8d1-5d0f24e86a50",
   "metadata": {},
   "outputs": [],
   "source": []
  }
 ],
 "metadata": {
  "kernelspec": {
   "display_name": "CambPy39",
   "language": "python",
   "name": "cambpy39"
  },
  "language_info": {
   "codemirror_mode": {
    "name": "ipython",
    "version": 3
   },
   "file_extension": ".py",
   "mimetype": "text/x-python",
   "name": "python",
   "nbconvert_exporter": "python",
   "pygments_lexer": "ipython3",
   "version": "3.9.7"
  }
 },
 "nbformat": 4,
 "nbformat_minor": 5
}
